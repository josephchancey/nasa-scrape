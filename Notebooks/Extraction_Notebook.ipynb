{
 "cells": [
  {
   "cell_type": "code",
   "execution_count": 27,
   "metadata": {},
   "outputs": [],
   "source": [
    "# Import dependencies\n",
    "from bs4 import BeautifulSoup as bs\n",
    "from webdriver_manager.chrome import ChromeDriverManager\n",
    "from splinter import Browser\n",
    "import pandas as pd\n",
    "import requests\n",
    "import pymongo\n",
    "import os\n",
    "import time\n",
    "from config import nasa_url, facts_url, mars_hemisphere_url"
   ]
  },
  {
   "cell_type": "code",
   "execution_count": 28,
   "metadata": {},
   "outputs": [],
   "source": [
    "# URL of page to be scraped\n",
    "url = nasa_url\n",
    "\n",
    "# Retrieve page with the requests module\n",
    "response = requests.get(url, verify=True)\n",
    "\n",
    "# Parse HTMl\n",
    "soup = bs(response.text, 'html.parser')"
   ]
  },
  {
   "cell_type": "code",
   "execution_count": 29,
   "metadata": {},
   "outputs": [
    {
     "name": "stdout",
     "output_type": "stream",
     "text": [
      "\n",
      "\n",
      "NASA's Perseverance Sheds More Light on Jezero Crater's Watery Past\n",
      "\n",
      "\n",
      "\n",
      "Pictures from NASA’s latest six-wheeler on the Red Planet suggest the area’s history experienced significant flooding events.\n",
      "\n"
     ]
    }
   ],
   "source": [
    "# Grab latest headline and tagline\n",
    "headline = soup.find_all('div', class_=\"content_title\")[0].text\n",
    "print(headline)\n",
    "\n",
    "# Grab the tagline for the above headline\n",
    "tagline = soup.find_all('div', class_=\"rollover_description_inner\")[0].text\n",
    "print(tagline)"
   ]
  },
  {
   "cell_type": "code",
   "execution_count": 30,
   "metadata": {},
   "outputs": [
    {
     "name": "stderr",
     "output_type": "stream",
     "text": [
      "\n",
      "\n",
      "====== WebDriver manager ======\n",
      "Current google-chrome version is 95.0.4638\n",
      "Get LATEST driver version for 95.0.4638\n",
      "Driver [/Users/josephchancey/.wdm/drivers/chromedriver/mac64/95.0.4638.54/chromedriver] found in cache\n"
     ]
    },
    {
     "data": {
      "text/plain": [
       "'https://data-class-jpl-space.s3.amazonaws.com/JPL_Space/image/featured/mars1.jpg'"
      ]
     },
     "execution_count": 30,
     "metadata": {},
     "output_type": "execute_result"
    }
   ],
   "source": [
    "# Use Splinter to visit site for featured image - First init Splinter\n",
    "executable_path = {'executable_path': ChromeDriverManager().install()} # Ensure latest version is installed\n",
    "browser = Browser('chrome', **executable_path, headless=False) # Initialize browser\n",
    "\n",
    "# Visit URL\n",
    "ft_img_grab_url = 'https://data-class-jpl-space.s3.amazonaws.com/JPL_Space/index.html'\n",
    "browser.visit(ft_img_grab_url)\n",
    "\n",
    "# Open featured image full res destination\n",
    "browser.links.find_by_partial_text('FULL IMAGE').click()\n",
    "time.sleep(6)\n",
    "\n",
    "# Parse scraped HTML\n",
    "scraped_html = browser.html\n",
    "img_parse = bs(scraped_html, 'html.parser')\n",
    "\n",
    "# Grab full res image\n",
    "featured_image_scrape = img_parse.find('img', class_=\"fancybox-image\")\n",
    "featured_image_url = featured_image_scrape.attrs['src']\n",
    "\n",
    "# Get full link\n",
    "featured_img_final = f\"https://data-class-jpl-space.s3.amazonaws.com/JPL_Space/{featured_image_url}\"\n",
    "featured_img_final"
   ]
  },
  {
   "cell_type": "code",
   "execution_count": 31,
   "metadata": {},
   "outputs": [],
   "source": [
    "# Closer Splinter browser\n",
    "browser.quit()"
   ]
  },
  {
   "cell_type": "code",
   "execution_count": 32,
   "metadata": {},
   "outputs": [
    {
     "data": {
      "text/html": [
       "<div>\n",
       "<style scoped>\n",
       "    .dataframe tbody tr th:only-of-type {\n",
       "        vertical-align: middle;\n",
       "    }\n",
       "\n",
       "    .dataframe tbody tr th {\n",
       "        vertical-align: top;\n",
       "    }\n",
       "\n",
       "    .dataframe thead th {\n",
       "        text-align: right;\n",
       "    }\n",
       "</style>\n",
       "<table border=\"1\" class=\"dataframe\">\n",
       "  <thead>\n",
       "    <tr style=\"text-align: right;\">\n",
       "      <th></th>\n",
       "      <th>0</th>\n",
       "      <th>1</th>\n",
       "    </tr>\n",
       "  </thead>\n",
       "  <tbody>\n",
       "    <tr>\n",
       "      <th>0</th>\n",
       "      <td>Equatorial Diameter:</td>\n",
       "      <td>6,792 km</td>\n",
       "    </tr>\n",
       "    <tr>\n",
       "      <th>1</th>\n",
       "      <td>Polar Diameter:</td>\n",
       "      <td>6,752 km</td>\n",
       "    </tr>\n",
       "    <tr>\n",
       "      <th>2</th>\n",
       "      <td>Mass:</td>\n",
       "      <td>6.39 × 10^23 kg (0.11 Earths)</td>\n",
       "    </tr>\n",
       "    <tr>\n",
       "      <th>3</th>\n",
       "      <td>Moons:</td>\n",
       "      <td>2 (Phobos &amp; Deimos)</td>\n",
       "    </tr>\n",
       "    <tr>\n",
       "      <th>4</th>\n",
       "      <td>Orbit Distance:</td>\n",
       "      <td>227,943,824 km (1.38 AU)</td>\n",
       "    </tr>\n",
       "  </tbody>\n",
       "</table>\n",
       "</div>"
      ],
      "text/plain": [
       "                      0                              1\n",
       "0  Equatorial Diameter:                       6,792 km\n",
       "1       Polar Diameter:                       6,752 km\n",
       "2                 Mass:  6.39 × 10^23 kg (0.11 Earths)\n",
       "3                Moons:            2 (Phobos & Deimos)\n",
       "4       Orbit Distance:       227,943,824 km (1.38 AU)"
      ]
     },
     "execution_count": 32,
     "metadata": {},
     "output_type": "execute_result"
    }
   ],
   "source": [
    "# Scrape table with Pandas\n",
    "table_url = \"https://space-facts.com/mars/\"\n",
    "\n",
    "# read_html to automatically scrape every table from page\n",
    "tables = pd.read_html(requests.get(table_url).text)\n",
    "tables\n",
    "# Assign to dataframe to view data - [0] index is the table we wanted\n",
    "df = tables[0]\n",
    "df.head()"
   ]
  },
  {
   "cell_type": "code",
   "execution_count": 33,
   "metadata": {},
   "outputs": [
    {
     "data": {
      "text/html": [
       "<div>\n",
       "<style scoped>\n",
       "    .dataframe tbody tr th:only-of-type {\n",
       "        vertical-align: middle;\n",
       "    }\n",
       "\n",
       "    .dataframe tbody tr th {\n",
       "        vertical-align: top;\n",
       "    }\n",
       "\n",
       "    .dataframe thead th {\n",
       "        text-align: right;\n",
       "    }\n",
       "</style>\n",
       "<table border=\"1\" class=\"dataframe\">\n",
       "  <thead>\n",
       "    <tr style=\"text-align: right;\">\n",
       "      <th></th>\n",
       "      <th>Values</th>\n",
       "    </tr>\n",
       "    <tr>\n",
       "      <th>Query</th>\n",
       "      <th></th>\n",
       "    </tr>\n",
       "  </thead>\n",
       "  <tbody>\n",
       "    <tr>\n",
       "      <th>Equatorial Diameter:</th>\n",
       "      <td>6,792 km</td>\n",
       "    </tr>\n",
       "    <tr>\n",
       "      <th>Polar Diameter:</th>\n",
       "      <td>6,752 km</td>\n",
       "    </tr>\n",
       "    <tr>\n",
       "      <th>Mass:</th>\n",
       "      <td>6.39 × 10^23 kg (0.11 Earths)</td>\n",
       "    </tr>\n",
       "    <tr>\n",
       "      <th>Moons:</th>\n",
       "      <td>2 (Phobos &amp; Deimos)</td>\n",
       "    </tr>\n",
       "    <tr>\n",
       "      <th>Orbit Distance:</th>\n",
       "      <td>227,943,824 km (1.38 AU)</td>\n",
       "    </tr>\n",
       "    <tr>\n",
       "      <th>Orbit Period:</th>\n",
       "      <td>687 days (1.9 years)</td>\n",
       "    </tr>\n",
       "    <tr>\n",
       "      <th>Surface Temperature:</th>\n",
       "      <td>-87 to -5 °C</td>\n",
       "    </tr>\n",
       "    <tr>\n",
       "      <th>First Record:</th>\n",
       "      <td>2nd millennium BC</td>\n",
       "    </tr>\n",
       "    <tr>\n",
       "      <th>Recorded By:</th>\n",
       "      <td>Egyptian astronomers</td>\n",
       "    </tr>\n",
       "  </tbody>\n",
       "</table>\n",
       "</div>"
      ],
      "text/plain": [
       "                                             Values\n",
       "Query                                              \n",
       "Equatorial Diameter:                       6,792 km\n",
       "Polar Diameter:                            6,752 km\n",
       "Mass:                 6.39 × 10^23 kg (0.11 Earths)\n",
       "Moons:                          2 (Phobos & Deimos)\n",
       "Orbit Distance:            227,943,824 km (1.38 AU)\n",
       "Orbit Period:                  687 days (1.9 years)\n",
       "Surface Temperature:                   -87 to -5 °C\n",
       "First Record:                     2nd millennium BC\n",
       "Recorded By:                   Egyptian astronomers"
      ]
     },
     "execution_count": 33,
     "metadata": {},
     "output_type": "execute_result"
    }
   ],
   "source": [
    "# Clean DataFrame\n",
    "# Rename column\n",
    "df = df.rename(columns={1: \"Values\", 0:\"Query\"})\n",
    "# Set New Index\n",
    "df = df.set_index('Query')\n",
    "df"
   ]
  },
  {
   "cell_type": "code",
   "execution_count": 39,
   "metadata": {},
   "outputs": [],
   "source": [
    "# Convert to HTML so we can plug it right into the website\n",
    "df_html = df.to_html()"
   ]
  },
  {
   "cell_type": "code",
   "execution_count": 40,
   "metadata": {},
   "outputs": [
    {
     "name": "stderr",
     "output_type": "stream",
     "text": [
      "\n",
      "\n",
      "====== WebDriver manager ======\n",
      "Current google-chrome version is 95.0.4638\n",
      "Get LATEST driver version for 95.0.4638\n",
      "Driver [/Users/josephchancey/.wdm/drivers/chromedriver/mac64/95.0.4638.54/chromedriver] found in cache\n"
     ]
    },
    {
     "name": "stdout",
     "output_type": "stream",
     "text": [
      "https://astrogeology.usgs.gov/search/map/Mars/Viking/cerberus_enhanced\n",
      "https://astrogeology.usgs.gov/search/map/Mars/Viking/schiaparelli_enhanced\n",
      "https://astrogeology.usgs.gov/search/map/Mars/Viking/syrtis_major_enhanced\n",
      "https://astrogeology.usgs.gov/search/map/Mars/Viking/valles_marineris_enhanced\n"
     ]
    },
    {
     "data": {
      "text/plain": [
       "[{'title': 'Cerberus Hemisphere Enhanced',\n",
       "  'img_url': 'https://astrogeology.usgs.gov/cache/images/f5e372a36edfa389625da6d0cc25d905_cerberus_enhanced.tif_full.jpg'},\n",
       " {'title': 'Schiaparelli Hemisphere Enhanced',\n",
       "  'img_url': 'https://astrogeology.usgs.gov/cache/images/3778f7b43bbbc89d6e3cfabb3613ba93_schiaparelli_enhanced.tif_full.jpg'},\n",
       " {'title': 'Syrtis Major Hemisphere Enhanced',\n",
       "  'img_url': 'https://astrogeology.usgs.gov/cache/images/555e6403a6ddd7ba16ddb0e471cadcf7_syrtis_major_enhanced.tif_full.jpg'},\n",
       " {'title': 'Valles Marineris Hemisphere Enhanced',\n",
       "  'img_url': 'https://astrogeology.usgs.gov/cache/images/b3c7c6c9138f57b4756be9b9c43e3a48_valles_marineris_enhanced.tif_full.jpg'}]"
      ]
     },
     "execution_count": 40,
     "metadata": {},
     "output_type": "execute_result"
    }
   ],
   "source": [
    "# NEED TO CHANGE NAMING SCHEME AND ADD COMMENTS\n",
    "\n",
    "executable_path = {'executable_path': ChromeDriverManager().install()} # Ensure latest version is installed\n",
    "browser = Browser('chrome', **executable_path, headless=False) # Initialize browser\n",
    "\n",
    "browser.visit(mars_hemisphere_url)\n",
    "\n",
    "time.sleep(4)\n",
    "\n",
    "# Assign the HTML content of the page to a variable\n",
    "hemisphere_html = browser.html\n",
    "# Parse HTML with Beautifulsoup\n",
    "soup = bs(hemisphere_html,'html.parser')\n",
    "\n",
    "# Collect the urls for the hemisphere images\n",
    "items = soup.find_all(\"div\", class_=\"item\")\n",
    "\n",
    "main_url = \"https://astrogeology.usgs.gov\"\n",
    "hemisphere_urls = []\n",
    "\n",
    "for item in items:\n",
    "    hemisphere_urls.append(f\"{main_url}{item.find('a', class_='itemLink')['href']}\")\n",
    "\n",
    "print(*hemisphere_urls, sep = \"\\n\")\n",
    "\n",
    "# Create a list to store the data\n",
    "hemisphere_image_urls=[]\n",
    "\n",
    "# Loop through each url\n",
    "for url in hemisphere_urls:\n",
    "    # Navigate to the page\n",
    "    browser.visit(url)\n",
    "    \n",
    "    time.sleep(4)\n",
    "    \n",
    "    # Assign the HTML content of the page to a variable\n",
    "    hemisphere_html = browser.html\n",
    "    # Parse HTML with Beautifulsoup\n",
    "    soup = bs(hemisphere_html,'html.parser')\n",
    "    \n",
    "    img_url = soup.find('img', class_=\"wide-image\")['src']\n",
    "    title = soup.find('h2', class_=\"title\").text\n",
    "    \n",
    "    hemisphere_image_urls.append({\"title\":title,\"img_url\":f\"https://astrogeology.usgs.gov{img_url}\"})\n",
    "\n",
    "hemisphere_image_urls"
   ]
  },
  {
   "cell_type": "code",
   "execution_count": 36,
   "metadata": {},
   "outputs": [
    {
     "name": "stderr",
     "output_type": "stream",
     "text": [
      "\n",
      "\n",
      "====== WebDriver manager ======\n",
      "Current google-chrome version is 95.0.4638\n",
      "Get LATEST driver version for 95.0.4638\n",
      "Driver [/Users/josephchancey/.wdm/drivers/chromedriver/mac64/95.0.4638.54/chromedriver] found in cache\n"
     ]
    },
    {
     "ename": "TypeError",
     "evalue": "'NoneType' object is not subscriptable",
     "output_type": "error",
     "traceback": [
      "\u001b[0;31m---------------------------------------------------------------------------\u001b[0m",
      "\u001b[0;31mTypeError\u001b[0m                                 Traceback (most recent call last)",
      "\u001b[0;32m<ipython-input-36-7d8fe2cc29c5>\u001b[0m in \u001b[0;36m<module>\u001b[0;34m\u001b[0m\n\u001b[1;32m     29\u001b[0m     \u001b[0;31m# Parse that above HTML that was just grabbed\u001b[0m\u001b[0;34m\u001b[0m\u001b[0;34m\u001b[0m\u001b[0;34m\u001b[0m\u001b[0m\n\u001b[1;32m     30\u001b[0m     \u001b[0mtemp_soup\u001b[0m \u001b[0;34m=\u001b[0m \u001b[0mbs\u001b[0m\u001b[0;34m(\u001b[0m\u001b[0mtemp_img_url\u001b[0m\u001b[0;34m,\u001b[0m \u001b[0;34m'html.parser'\u001b[0m\u001b[0;34m)\u001b[0m\u001b[0;34m\u001b[0m\u001b[0;34m\u001b[0m\u001b[0m\n\u001b[0;32m---> 31\u001b[0;31m     \u001b[0mtemp_url\u001b[0m \u001b[0;34m=\u001b[0m \u001b[0mtemp_soup\u001b[0m\u001b[0;34m.\u001b[0m\u001b[0mfind\u001b[0m\u001b[0;34m(\u001b[0m\u001b[0;34m'img'\u001b[0m\u001b[0;34m,\u001b[0m \u001b[0mclass_\u001b[0m\u001b[0;34m=\u001b[0m\u001b[0;34m'wide-image'\u001b[0m\u001b[0;34m)\u001b[0m\u001b[0;34m[\u001b[0m\u001b[0;34m'src'\u001b[0m\u001b[0;34m]\u001b[0m\u001b[0;34m\u001b[0m\u001b[0;34m\u001b[0m\u001b[0m\n\u001b[0m\u001b[1;32m     32\u001b[0m     \u001b[0;31m# Grab full image\u001b[0m\u001b[0;34m\u001b[0m\u001b[0;34m\u001b[0m\u001b[0;34m\u001b[0m\u001b[0m\n\u001b[1;32m     33\u001b[0m     \u001b[0mimg_url\u001b[0m \u001b[0;34m=\u001b[0m \u001b[0;34mf'{hemi_main_url}{temp_url}'\u001b[0m\u001b[0;34m\u001b[0m\u001b[0;34m\u001b[0m\u001b[0m\n",
      "\u001b[0;31mTypeError\u001b[0m: 'NoneType' object is not subscriptable"
     ]
    }
   ],
   "source": [
    "# DEPRICATED - USE CELL ABOVE - \n",
    "\n",
    "\n",
    "# Use Splinter to visit site for featured image - First init Splinter\n",
    "executable_path = {'executable_path': ChromeDriverManager().install()} # Ensure latest version is installed\n",
    "browser = Browser('chrome', **executable_path, headless=False) # Initialize browser\n",
    "# Get hemisphere data \n",
    "# Use splinter to visit site \n",
    "browser.visit(mars_hemisphere_url)\n",
    "# Gather HTML\n",
    "hemi_html = browser.html\n",
    "# Parse HTML\n",
    "hemi_soup = bs(hemi_html, 'html.parser')\n",
    "# Retreive all relevant items\n",
    "hemi_items = hemi_soup.find_all('div', class_='item')\n",
    "# Create empty list variable to fill with data in upcoming loop\n",
    "hemi_img_urls = []\n",
    "# Main Website URL - For later appending\n",
    "hemi_main_url = 'https://astrogeology.usgs.gov'\n",
    "\n",
    "\n",
    "# Loop through the items previously stored\n",
    "for hemi in hemi_items: \n",
    "    # Grab title in this iteration\n",
    "    title = hemi.find('h3').text\n",
    "    # Grab link for full image path\n",
    "    temp_img_url = hemi.find('a', class_='itemLink product-item')['href']\n",
    "    # Path to the full image page\n",
    "    browser.visit(hemi_main_url + temp_img_url)\n",
    "    # Rip HTML from page that has full image\n",
    "    temp_img_html = browser.html\n",
    "    # Parse that above HTML that was just grabbed \n",
    "    temp_soup = bs(temp_img_url, 'html.parser')\n",
    "    # Grab full image\n",
    "    img_url = hemi_main_url + temp_soup.find('img', class_='wide-image')['src']\n",
    "    #### ^^^^ Something is very broken here - returns NoneType error - Mathmatically not good... \n",
    "    # Append into a dictionary \n",
    "    hemi_img_urls.append({\"title\" : title, \"img_url\" : img_url})\n",
    "    \n",
    "hemi_img_urls"
   ]
  },
  {
   "cell_type": "code",
   "execution_count": null,
   "metadata": {},
   "outputs": [],
   "source": []
  }
 ],
 "metadata": {
  "interpreter": {
   "hash": "920830383a62d6fe7767526598dd61951e1b354c578ca4e90929169c56629948"
  },
  "kernelspec": {
   "display_name": "Python 3.8.8 64-bit ('base': conda)",
   "name": "python3"
  },
  "language_info": {
   "codemirror_mode": {
    "name": "ipython",
    "version": 3
   },
   "file_extension": ".py",
   "mimetype": "text/x-python",
   "name": "python",
   "nbconvert_exporter": "python",
   "pygments_lexer": "ipython3",
   "version": "3.8.8"
  }
 },
 "nbformat": 4,
 "nbformat_minor": 4
}

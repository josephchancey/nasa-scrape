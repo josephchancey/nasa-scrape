{
 "cells": [
  {
   "cell_type": "code",
   "execution_count": 78,
   "metadata": {},
   "outputs": [],
   "source": [
    "# Import dependencies\n",
    "from bs4 import BeautifulSoup\n",
    "from webdriver_manager.chrome import ChromeDriverManager\n",
    "from splinter import Browser\n",
    "import pandas as pd\n",
    "import requests\n",
    "import pymongo\n",
    "import os\n",
    "import time\n",
    "from config import nasa_url, facts_url, mars_hemisphere_url"
   ]
  },
  {
   "cell_type": "code",
   "execution_count": 68,
   "metadata": {},
   "outputs": [],
   "source": [
    "# URL of page to be scraped\n",
    "url = nasa_url\n",
    "\n",
    "# Retrieve page with the requests module\n",
    "response = requests.get(url, verify=True)\n",
    "\n",
    "# Parse HTMl\n",
    "soup = BeautifulSoup(response.text, 'html.parser')"
   ]
  },
  {
   "cell_type": "code",
   "execution_count": 69,
   "metadata": {},
   "outputs": [
    {
     "name": "stdout",
     "output_type": "stream",
     "text": [
      "\n",
      "\n",
      "NASA's Perseverance Rover Collects Puzzle Pieces of Mars' History\n",
      "\n",
      "\n",
      "\n",
      "The rocks it has analyzed for sample collection are helping the team better understand a past marked by volcanic activity and water.\n",
      "\n"
     ]
    }
   ],
   "source": [
    "# Grab latest headline and tagline\n",
    "headline = soup.find_all('div', class_=\"content_title\")[0].text\n",
    "print(headline)\n",
    "\n",
    "# Grab the tagline for the above headline\n",
    "tagline = soup.find_all('div', class_=\"rollover_description_inner\")[0].text\n",
    "print(tagline)"
   ]
  },
  {
   "cell_type": "code",
   "execution_count": 85,
   "metadata": {},
   "outputs": [
    {
     "name": "stderr",
     "output_type": "stream",
     "text": [
      "\n",
      "\n",
      "====== WebDriver manager ======\n",
      "Current google-chrome version is 94.0.4606\n",
      "Get LATEST driver version for 94.0.4606\n",
      "Driver [/Users/josephchancey/.wdm/drivers/chromedriver/mac64/94.0.4606.61/chromedriver] found in cache\n"
     ]
    },
    {
     "data": {
      "text/plain": [
       "'https://data-class-jpl-space.s3.amazonaws.com/JPL_Space/image/featured/mars3.jpg'"
      ]
     },
     "execution_count": 85,
     "metadata": {},
     "output_type": "execute_result"
    }
   ],
   "source": [
    "# Use Splinter to visit site for featured image - First init Splinter\n",
    "executable_path = {'executable_path': ChromeDriverManager().install()} # Ensure latest version is installed\n",
    "browser = Browser('chrome', **executable_path, headless=False) # Initialize browser\n",
    "\n",
    "# Visit URL\n",
    "ft_img_grab_url = 'https://data-class-jpl-space.s3.amazonaws.com/JPL_Space/index.html'\n",
    "browser.visit(ft_img_grab_url)\n",
    "\n",
    "# Open featured image full res destination\n",
    "browser.links.find_by_partial_text('FULL IMAGE').click()\n",
    "time.sleep(6)\n",
    "\n",
    "# Parse scraped HTML\n",
    "scraped_html = browser.html\n",
    "img_parse = bs(scraped_html, 'html.parser')\n",
    "\n",
    "# Grab full res image\n",
    "featured_image_scrape = img_parse.find('img', class_=\"fancybox-image\")\n",
    "featured_image_url = featured_images.attrs['src']\n",
    "\n",
    "# Get full link\n",
    "featured_img_final = f\"https://data-class-jpl-space.s3.amazonaws.com/JPL_Space/{featured_image_url}\"\n",
    "featured_img_final"
   ]
  },
  {
   "cell_type": "code",
   "execution_count": 94,
   "metadata": {},
   "outputs": [],
   "source": [
    "# Closer Splinter browser\n",
    "browser.quit()"
   ]
  },
  {
   "cell_type": "code",
   "execution_count": 96,
   "metadata": {},
   "outputs": [
    {
     "data": {
      "text/html": [
       "<div>\n",
       "<style scoped>\n",
       "    .dataframe tbody tr th:only-of-type {\n",
       "        vertical-align: middle;\n",
       "    }\n",
       "\n",
       "    .dataframe tbody tr th {\n",
       "        vertical-align: top;\n",
       "    }\n",
       "\n",
       "    .dataframe thead th {\n",
       "        text-align: right;\n",
       "    }\n",
       "</style>\n",
       "<table border=\"1\" class=\"dataframe\">\n",
       "  <thead>\n",
       "    <tr style=\"text-align: right;\">\n",
       "      <th></th>\n",
       "      <th>0</th>\n",
       "      <th>1</th>\n",
       "    </tr>\n",
       "  </thead>\n",
       "  <tbody>\n",
       "    <tr>\n",
       "      <th>0</th>\n",
       "      <td>Equatorial Diameter:</td>\n",
       "      <td>6,792 km</td>\n",
       "    </tr>\n",
       "    <tr>\n",
       "      <th>1</th>\n",
       "      <td>Polar Diameter:</td>\n",
       "      <td>6,752 km</td>\n",
       "    </tr>\n",
       "    <tr>\n",
       "      <th>2</th>\n",
       "      <td>Mass:</td>\n",
       "      <td>6.39 × 10^23 kg (0.11 Earths)</td>\n",
       "    </tr>\n",
       "    <tr>\n",
       "      <th>3</th>\n",
       "      <td>Moons:</td>\n",
       "      <td>2 (Phobos &amp; Deimos)</td>\n",
       "    </tr>\n",
       "    <tr>\n",
       "      <th>4</th>\n",
       "      <td>Orbit Distance:</td>\n",
       "      <td>227,943,824 km (1.38 AU)</td>\n",
       "    </tr>\n",
       "  </tbody>\n",
       "</table>\n",
       "</div>"
      ],
      "text/plain": [
       "                      0                              1\n",
       "0  Equatorial Diameter:                       6,792 km\n",
       "1       Polar Diameter:                       6,752 km\n",
       "2                 Mass:  6.39 × 10^23 kg (0.11 Earths)\n",
       "3                Moons:            2 (Phobos & Deimos)\n",
       "4       Orbit Distance:       227,943,824 km (1.38 AU)"
      ]
     },
     "execution_count": 96,
     "metadata": {},
     "output_type": "execute_result"
    }
   ],
   "source": [
    "# Scrape table with Pandas\n",
    "table_url = \"https://space-facts.com/mars/\"\n",
    "\n",
    "# read_html to automatically scrape every table from page\n",
    "tables = pd.read_html(requests.get(table_url).text)\n",
    "tables\n",
    "# Assign to dataframe to view data - [0] index is the table we wanted\n",
    "df = tables[0]\n",
    "df.head()"
   ]
  },
  {
   "cell_type": "code",
   "execution_count": null,
   "metadata": {},
   "outputs": [],
   "source": []
  }
 ],
 "metadata": {
  "interpreter": {
   "hash": "31f2aee4e71d21fbe5cf8b01ff0e069b9275f58929596ceb00d14d90e3e16cd6"
  },
  "kernelspec": {
   "display_name": "Python 3",
   "language": "python",
   "name": "python3"
  },
  "language_info": {
   "codemirror_mode": {
    "name": "ipython",
    "version": 3
   },
   "file_extension": ".py",
   "mimetype": "text/x-python",
   "name": "python",
   "nbconvert_exporter": "python",
   "pygments_lexer": "ipython3",
   "version": "3.8.8"
  }
 },
 "nbformat": 4,
 "nbformat_minor": 4
}
